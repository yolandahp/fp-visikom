{
 "cells": [
  {
   "cell_type": "code",
   "execution_count": 150,
   "metadata": {},
   "outputs": [],
   "source": [
    "import pandas as pd\n",
    "import numpy as np\n",
    "import h5py\n",
    "import os\n",
    "import glob\n",
    "import cv2\n",
    "import dlib\n",
    "\n",
    "from matplotlib import pyplot as plt\n",
    "%matplotlib inline\n",
    "from scipy import ndimage"
   ]
  },
  {
   "cell_type": "code",
   "execution_count": 151,
   "metadata": {},
   "outputs": [],
   "source": [
    "from keras.utils import np_utils\n",
    "from keras.preprocessing.image import ImageDataGenerator"
   ]
  },
  {
   "cell_type": "code",
   "execution_count": null,
   "metadata": {},
   "outputs": [],
   "source": [
    "#read data biasa, convert color, resize"
   ]
  },
  {
   "cell_type": "code",
   "execution_count": 317,
   "metadata": {},
   "outputs": [],
   "source": [
    "x_train = []\n",
    "\n",
    "df = pd.read_csv('sample_train.csv')\n",
    "base_dir = \"train\"\n",
    "paths = base_dir + os.sep + df['label'] + os.sep + df['sequence'] + os.sep + df['path']\n",
    "paths = paths.values.tolist()\n",
    "\n",
    "for path in paths:\n",
    "    img = cv2.imread(path)\n",
    "    img = cv2.cvtColor(img, cv2.COLOR_BGR2RGB)\n",
    "    img = cv2.resize(img, (96, 96), interpolation=cv2.INTER_CUBIC)\n",
    "    \n",
    "    x_train.append(img)\n",
    "    \n",
    "y_train = df['label']"
   ]
  },
  {
   "cell_type": "code",
   "execution_count": 318,
   "metadata": {},
   "outputs": [],
   "source": [
    "x_test = []\n",
    "\n",
    "df = pd.read_csv('sample_test.csv')\n",
    "base_dir = \"test\"\n",
    "paths = base_dir + os.sep + df['label'] + os.sep + df['sequence'] + os.sep + df['path']\n",
    "paths = paths.values.tolist()\n",
    "\n",
    "for path in paths:\n",
    "    img = cv2.imread(path)\n",
    "    img = cv2.cvtColor(img, cv2.COLOR_BGR2RGB)\n",
    "    img = cv2.resize(img, (96, 96), interpolation=cv2.INTER_CUBIC)\n",
    "    \n",
    "    x_test.append(img)\n",
    "\n",
    "y_test = df['label']"
   ]
  },
  {
   "cell_type": "code",
   "execution_count": 319,
   "metadata": {},
   "outputs": [],
   "source": [
    "x_train = np.array(x_train, dtype=np.uint8) #list to array\n",
    "x_test = np.array(x_test, dtype=np.uint8)"
   ]
  },
  {
   "cell_type": "code",
   "execution_count": 320,
   "metadata": {},
   "outputs": [],
   "source": [
    "map_label = {} #mapping label string ke angka\n",
    "invert_map_label = {}\n",
    "label_uniq = np.unique(y_train)\n",
    "for i in range(len(label_uniq)):\n",
    "    map_label[label_uniq[i]] = i\n",
    "    invert_map_label[str(i)] = label_uniq[i]"
   ]
  },
  {
   "cell_type": "code",
   "execution_count": 321,
   "metadata": {},
   "outputs": [],
   "source": [
    "y_train = y_train.map(map_label) #mapping\n",
    "y_test = y_test.map(map_label)\n",
    "\n",
    "y_train = np_utils.to_categorical(y_train, len(label_uniq)) #one hot encoding\n",
    "y_test = np_utils.to_categorical(y_test, len(label_uniq))"
   ]
  },
  {
   "cell_type": "code",
   "execution_count": 322,
   "metadata": {},
   "outputs": [],
   "source": [
    "x_train_augm = []\n",
    "y_train_augm = []"
   ]
  },
  {
   "cell_type": "code",
   "execution_count": 323,
   "metadata": {},
   "outputs": [],
   "source": [
    "datagen = ImageDataGenerator(brightness_range=[0.2, 1.0]) #augmentasi random brightness\n",
    "it = datagen.flow(x_train, y_train, batch_size=1)\n",
    "\n",
    "for i in range(len(x_train)):\n",
    "    batch = it.next()\n",
    "    image = batch[0].astype('uint8')\n",
    "    x_train_augm.append(image[0]) #hasil image augmentasi\n",
    "    y_train_augm.append(batch[1][0]) #label augmentasi"
   ]
  },
  {
   "cell_type": "code",
   "execution_count": 324,
   "metadata": {},
   "outputs": [],
   "source": [
    "datagen = ImageDataGenerator(horizontal_flip=True) #augmentasi horizontal flip\n",
    "it = datagen.flow(x_train, y_train, batch_size=1)\n",
    "\n",
    "for i in range(len(x_train)):\n",
    "    batch = it.next()\n",
    "    image = batch[0].astype('uint8')\n",
    "    x_train_augm.append(image[0])\n",
    "    y_train_augm.append(batch[1][0])"
   ]
  },
  {
   "cell_type": "code",
   "execution_count": null,
   "metadata": {},
   "outputs": [],
   "source": []
  },
  {
   "cell_type": "code",
   "execution_count": 325,
   "metadata": {},
   "outputs": [],
   "source": [
    "y_train_augm = np.array(y_train_augm).argmax(axis=1)"
   ]
  },
  {
   "cell_type": "code",
   "execution_count": null,
   "metadata": {},
   "outputs": [],
   "source": []
  },
  {
   "cell_type": "code",
   "execution_count": 326,
   "metadata": {},
   "outputs": [],
   "source": [
    "#save image doang\n",
    "labels = []\n",
    "paths = []\n",
    "\n",
    "for cl in range(len(label_uniq)):\n",
    "    idx = np.where(y_train_augm == cl)\n",
    "    folder_path = \"dataset\" + os.sep + \"train\" + os.sep + invert_map_label[str(cl)]\n",
    "    \n",
    "    if not os.path.exists(folder_path):\n",
    "        os.makedirs(folder_path)\n",
    "    \n",
    "    for i in range(len(idx[0])):\n",
    "        label = invert_map_label[str(cl)]\n",
    "        path = folder_path + os.sep + \"img_{}_{}.png\".format(label, i)\n",
    "        \n",
    "        labels.append(label)\n",
    "        paths.append(path)\n",
    "        \n",
    "        img = cv2.cvtColor(x_train_augm[idx[0][i]], cv2.COLOR_RGB2BGR)\n",
    "        cv2.imwrite(path, img)"
   ]
  },
  {
   "cell_type": "code",
   "execution_count": 327,
   "metadata": {},
   "outputs": [],
   "source": [
    "train_df = pd.DataFrame()\n",
    "\n",
    "train_df[\"label\"] = labels\n",
    "train_df[\"path\"] = paths\n",
    "\n",
    "train_df.to_csv(\"augmented_train.csv\", index=False)"
   ]
  },
  {
   "cell_type": "code",
   "execution_count": null,
   "metadata": {},
   "outputs": [],
   "source": []
  },
  {
   "cell_type": "code",
   "execution_count": 328,
   "metadata": {},
   "outputs": [],
   "source": [
    "y_test = y_test.argmax(axis=1)"
   ]
  },
  {
   "cell_type": "code",
   "execution_count": 329,
   "metadata": {},
   "outputs": [],
   "source": [
    "labels = []\n",
    "paths = []\n",
    "\n",
    "for cl in range(len(label_uniq)):\n",
    "    idx = np.where(y_test == cl)\n",
    "    folder_path = \"dataset\" + os.sep + \"test\" + os.sep + invert_map_label[str(cl)]\n",
    "    \n",
    "    if not os.path.exists(folder_path):\n",
    "        os.makedirs(folder_path)\n",
    "    \n",
    "    for i in range(len(idx[0])):\n",
    "        label = invert_map_label[str(cl)]\n",
    "        path = folder_path + os.sep + \"img_{}_{}.png\".format(label, i)\n",
    "        \n",
    "        labels.append(label)\n",
    "        paths.append(path)\n",
    "        \n",
    "        img = cv2.cvtColor(x_test[idx[0][i]], cv2.COLOR_RGB2BGR)\n",
    "        cv2.imwrite(path, img)"
   ]
  },
  {
   "cell_type": "code",
   "execution_count": 330,
   "metadata": {},
   "outputs": [],
   "source": [
    "test_df = pd.DataFrame()\n",
    "\n",
    "test_df[\"label\"] = labels\n",
    "test_df[\"path\"] = paths\n",
    "\n",
    "test_df.to_csv(\"augmented_test.csv\", index=False)"
   ]
  },
  {
   "cell_type": "code",
   "execution_count": null,
   "metadata": {},
   "outputs": [],
   "source": []
  },
  {
   "cell_type": "code",
   "execution_count": null,
   "metadata": {},
   "outputs": [],
   "source": []
  },
  {
   "cell_type": "code",
   "execution_count": null,
   "metadata": {},
   "outputs": [],
   "source": []
  }
 ],
 "metadata": {
  "kernelspec": {
   "display_name": "Python 3",
   "language": "python",
   "name": "python3"
  },
  "language_info": {
   "codemirror_mode": {
    "name": "ipython",
    "version": 3
   },
   "file_extension": ".py",
   "mimetype": "text/x-python",
   "name": "python",
   "nbconvert_exporter": "python",
   "pygments_lexer": "ipython3",
   "version": "3.6.1"
  }
 },
 "nbformat": 4,
 "nbformat_minor": 2
}
