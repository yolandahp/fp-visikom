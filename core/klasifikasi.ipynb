{
 "cells": [
  {
   "cell_type": "markdown",
   "metadata": {},
   "source": [
    "# Load Data"
   ]
  },
  {
   "cell_type": "code",
   "execution_count": 1,
   "metadata": {},
   "outputs": [],
   "source": [
    "import pandas as pd\n",
    "import numpy as np\n",
    "import h5py"
   ]
  },
  {
   "cell_type": "code",
   "execution_count": 202,
   "metadata": {},
   "outputs": [],
   "source": [
    "train_df = pd.read_csv('sample_train.csv')\n",
    "test_df = pd.read_csv('sample_test.csv')\n",
    "\n",
    "y_train = train_df['label']\n",
    "y_test = test_df['label']"
   ]
  },
  {
   "cell_type": "code",
   "execution_count": 270,
   "metadata": {},
   "outputs": [
    {
     "data": {
      "text/plain": [
       "label                   yulia\n",
       "sequence       New folder (2)\n",
       "path        data3_37980_0.png\n",
       "Name: 49, dtype: object"
      ]
     },
     "execution_count": 270,
     "metadata": {},
     "output_type": "execute_result"
    }
   ],
   "source": [
    "test_df.iloc[49]"
   ]
  },
  {
   "cell_type": "code",
   "execution_count": 203,
   "metadata": {},
   "outputs": [],
   "source": [
    "hf = h5py.File('dataset.h5', 'r')"
   ]
  },
  {
   "cell_type": "code",
   "execution_count": 204,
   "metadata": {},
   "outputs": [
    {
     "data": {
      "text/plain": [
       "<KeysViewHDF5 ['test', 'train']>"
      ]
     },
     "execution_count": 204,
     "metadata": {},
     "output_type": "execute_result"
    }
   ],
   "source": [
    "hf.keys()"
   ]
  },
  {
   "cell_type": "code",
   "execution_count": 205,
   "metadata": {},
   "outputs": [],
   "source": [
    "x_train = np.array(hf.get('train'))\n",
    "x_test = np.array(hf.get('test'))"
   ]
  },
  {
   "cell_type": "code",
   "execution_count": 206,
   "metadata": {},
   "outputs": [],
   "source": [
    "# x_train = np.concatenate([x_train, np.fliplr(x_train)])\n",
    "# x_test = np.concatenate([x_test, np.fliplr(x_test)])"
   ]
  },
  {
   "cell_type": "code",
   "execution_count": 207,
   "metadata": {},
   "outputs": [],
   "source": [
    "hf.close()"
   ]
  },
  {
   "cell_type": "code",
   "execution_count": 222,
   "metadata": {},
   "outputs": [
    {
     "data": {
      "text/plain": [
       "array([-9.46991295e-02,  1.38954177e-01,  3.39604728e-02, -1.00928664e-01,\n",
       "       -1.60528243e-01,  1.29941041e-02, -4.69261929e-02, -1.12855181e-01,\n",
       "        1.23366416e-01, -7.69930556e-02,  1.85811564e-01,  2.72780261e-03,\n",
       "       -2.17859328e-01,  3.83564569e-02, -5.63727617e-02,  5.92536964e-02,\n",
       "       -1.84768096e-01, -9.96602401e-02, -8.28254744e-02, -4.69316766e-02,\n",
       "        4.84925285e-02,  3.83871086e-02,  4.72354479e-02,  4.96575758e-02,\n",
       "       -1.81168705e-01, -3.16519618e-01, -5.80420680e-02, -9.06093642e-02,\n",
       "       -3.95750030e-05, -1.87232587e-02,  3.74257714e-02, -2.45033372e-02,\n",
       "       -2.23142892e-01, -3.80603061e-03,  2.23853812e-03,  5.12726605e-02,\n",
       "        2.89023872e-02, -3.00322529e-02,  1.47486746e-01, -1.49986371e-02,\n",
       "       -2.00699791e-01,  1.80294849e-02,  5.45310006e-02,  2.40527287e-01,\n",
       "        1.70173094e-01, -2.71004383e-02,  9.01269168e-02, -1.28049448e-01,\n",
       "        9.36447009e-02, -1.74807787e-01,  1.07777335e-01,  1.02794550e-01,\n",
       "        3.97927538e-02,  1.56024173e-02,  3.87540199e-02, -9.69571918e-02,\n",
       "        6.23794738e-03,  1.91674978e-01, -1.22822426e-01,  1.04726747e-01,\n",
       "        1.43217161e-01,  8.62733554e-03, -1.10953990e-02, -3.93860042e-02,\n",
       "        2.26708263e-01,  6.94757029e-02, -1.34445429e-01, -1.65443912e-01,\n",
       "        9.59368795e-02, -1.40912771e-01, -8.65906253e-02,  8.19512308e-02,\n",
       "       -1.08915135e-01, -1.65026948e-01, -2.90212393e-01,  6.02765307e-02,\n",
       "        5.10184884e-01,  1.52920395e-01, -1.66937009e-01,  9.06944275e-03,\n",
       "       -1.54350027e-01, -1.91815700e-02,  1.26147941e-01,  6.91528097e-02,\n",
       "       -6.64272606e-02,  2.76395865e-02, -1.05137490e-01,  1.39448032e-01,\n",
       "        2.85345972e-01,  9.35411453e-03, -7.45853782e-02,  2.51057059e-01,\n",
       "        3.18128951e-02, -8.24353774e-05,  1.60292014e-02,  9.02985409e-02,\n",
       "       -1.20293267e-01,  1.66929141e-02, -1.28862843e-01,  5.29503822e-03,\n",
       "        4.44393791e-02, -4.23684306e-02, -6.00389810e-03,  1.28512487e-01,\n",
       "       -1.97997645e-01,  1.34033844e-01, -1.06353089e-02, -2.04793643e-02,\n",
       "        8.40006396e-03,  1.76562518e-02, -1.10096417e-01, -4.62495536e-02,\n",
       "        1.66040599e-01, -2.54535079e-01,  1.59733176e-01,  1.31392300e-01,\n",
       "        9.11543444e-02,  1.27768844e-01,  9.68880206e-02,  9.11537092e-03,\n",
       "        5.12269624e-02, -2.50599477e-02, -1.45131037e-01, -3.98843400e-02,\n",
       "        6.32711947e-02, -4.31242436e-02,  1.39720097e-01,  3.63394096e-02])"
      ]
     },
     "execution_count": 222,
     "metadata": {},
     "output_type": "execute_result"
    }
   ],
   "source": [
    "x_train[0]"
   ]
  },
  {
   "cell_type": "markdown",
   "metadata": {},
   "source": [
    "# Klasifikasi"
   ]
  },
  {
   "cell_type": "code",
   "execution_count": 271,
   "metadata": {},
   "outputs": [],
   "source": [
    "from lightgbm import LGBMClassifier\n",
    "from sklearn.preprocessing import LabelEncoder\n",
    "from sklearn.metrics import classification_report\n",
    "from sklearn.ensemble import RandomForestClassifier"
   ]
  },
  {
   "cell_type": "code",
   "execution_count": 208,
   "metadata": {},
   "outputs": [],
   "source": [
    "lb = LabelEncoder()\n",
    "y_train = lb.fit_transform(y_train)\n",
    "y_test = lb.transform(y_test)"
   ]
  },
  {
   "cell_type": "code",
   "execution_count": 209,
   "metadata": {},
   "outputs": [],
   "source": [
    "# y_train = np.repeat(y_train, 2)"
   ]
  },
  {
   "cell_type": "code",
   "execution_count": 210,
   "metadata": {},
   "outputs": [],
   "source": [
    "# y_train = np.concatenate([y_train, y_train])\n",
    "# y_test = np.concatenate([y_test, y_test])"
   ]
  },
  {
   "cell_type": "code",
   "execution_count": 211,
   "metadata": {},
   "outputs": [
    {
     "data": {
      "text/plain": [
       "LGBMClassifier(boosting_type='gbdt', class_weight=None, colsample_bytree=1.0,\n",
       "               importance_type='split', learning_rate=0.1, max_depth=-1,\n",
       "               min_child_samples=20, min_child_weight=0.001, min_split_gain=0.0,\n",
       "               n_estimators=100, n_jobs=-1, num_leaves=31, objective=None,\n",
       "               random_state=42, reg_alpha=0.0, reg_lambda=0.0, silent=True,\n",
       "               subsample=1.0, subsample_for_bin=200000, subsample_freq=0)"
      ]
     },
     "execution_count": 211,
     "metadata": {},
     "output_type": "execute_result"
    }
   ],
   "source": [
    "clf = LGBMClassifier(random_state=42)\n",
    "clf.fit(x_train, y_train)"
   ]
  },
  {
   "cell_type": "code",
   "execution_count": 212,
   "metadata": {},
   "outputs": [
    {
     "data": {
      "text/plain": [
       "0.6491228070175439"
      ]
     },
     "execution_count": 212,
     "metadata": {},
     "output_type": "execute_result"
    }
   ],
   "source": [
    "clf.score(x_test, y_test)"
   ]
  },
  {
   "cell_type": "code",
   "execution_count": 272,
   "metadata": {},
   "outputs": [
    {
     "data": {
      "text/plain": [
       "0.6842105263157895"
      ]
     },
     "execution_count": 272,
     "metadata": {},
     "output_type": "execute_result"
    }
   ],
   "source": [
    "clf = RandomForestClassifier(n_estimators=100, random_state=42)\n",
    "clf.fit(x_train_norm, y_train)\n",
    "clf.score(x_test_norm, y_test)"
   ]
  },
  {
   "cell_type": "code",
   "execution_count": 213,
   "metadata": {},
   "outputs": [],
   "source": [
    "from sklearn.linear_model import SGDClassifier"
   ]
  },
  {
   "cell_type": "code",
   "execution_count": 243,
   "metadata": {},
   "outputs": [
    {
     "data": {
      "text/plain": [
       "0.7719298245614035"
      ]
     },
     "execution_count": 243,
     "metadata": {},
     "output_type": "execute_result"
    }
   ],
   "source": [
    "clf = SGDClassifier(random_state=42, loss='modified_huber')\n",
    "clf.fit(x_train_norm, y_train)\n",
    "clf.score(x_test_norm, y_test)"
   ]
  },
  {
   "cell_type": "code",
   "execution_count": 244,
   "metadata": {},
   "outputs": [
    {
     "data": {
      "text/plain": [
       "array([0.19576046, 0.18199251, 0.28329389, 0.29855572, 0.25371775,\n",
       "       0.315065  , 0.3585323 , 0.31810848, 0.7280874 , 0.28237165,\n",
       "       0.1940706 , 0.19823356, 0.34459949, 0.27198078, 0.31496639,\n",
       "       0.21554447, 0.58658848, 0.24707321, 0.24291271, 0.52582774,\n",
       "       0.56350175, 0.30137654, 0.29987352, 0.2435931 , 0.30860133,\n",
       "       0.29374385, 0.25385512, 0.26242579, 0.34296181, 0.34450171,\n",
       "       0.33333333, 0.49070011, 0.39344129, 0.2733176 , 0.23481516,\n",
       "       0.32946937, 0.35351574, 0.36464411, 0.30118749, 0.35624936,\n",
       "       0.27191821, 0.35244017, 0.26173348, 0.3702075 , 0.24810009,\n",
       "       0.21865936, 0.26342098, 0.43451392, 0.25017452, 0.28165777,\n",
       "       0.25758817, 0.36384873, 0.30460898, 0.33047251, 0.30096442,\n",
       "       0.47514142, 0.44087554])"
      ]
     },
     "execution_count": 244,
     "metadata": {},
     "output_type": "execute_result"
    }
   ],
   "source": [
    "np.max(clf.predict_proba(x_test), axis=1)"
   ]
  },
  {
   "cell_type": "code",
   "execution_count": 245,
   "metadata": {},
   "outputs": [],
   "source": [
    "from sklearn.svm import LinearSVC, SVC\n",
    "from sklearn.preprocessing import Normalizer\n",
    "from sklearn.discriminant_analysis import LinearDiscriminantAnalysis, QuadraticDiscriminantAnalysis"
   ]
  },
  {
   "cell_type": "code",
   "execution_count": 261,
   "metadata": {},
   "outputs": [
    {
     "data": {
      "text/plain": [
       "0.8245614035087719"
      ]
     },
     "execution_count": 261,
     "metadata": {},
     "output_type": "execute_result"
    }
   ],
   "source": [
    "clf = LinearDiscriminantAnalysis(solver='lsqr')\n",
    "clf.fit(x_train_norm, y_train)\n",
    "clf.score(x_test_norm, y_test)"
   ]
  },
  {
   "cell_type": "code",
   "execution_count": 262,
   "metadata": {},
   "outputs": [
    {
     "data": {
      "text/plain": [
       "array([0.99727574, 0.99877968, 0.99007699, 0.99999946, 0.88905436,\n",
       "       0.99971846, 1.        , 1.        , 1.        , 1.        ,\n",
       "       0.99999997, 1.        , 1.        , 0.99999958, 0.99999729,\n",
       "       0.99996871, 0.99999727, 0.99997352, 0.66146331, 0.99984271,\n",
       "       1.        , 1.        , 0.99990357, 1.        , 1.        ,\n",
       "       0.99999998, 0.97607106, 0.99469681, 0.9996548 , 0.99999997,\n",
       "       1.        , 1.        , 1.        , 0.99998768, 0.99754321,\n",
       "       0.99996725, 1.        , 0.99956137, 0.99658734, 0.99320078,\n",
       "       0.93935155, 1.        , 1.        , 1.        , 1.        ,\n",
       "       0.9869657 , 0.90184743, 1.        , 1.        , 0.50703996,\n",
       "       0.99999305, 0.99999904, 0.99996101, 0.48479612, 0.9986627 ,\n",
       "       0.99997601, 0.99998533])"
      ]
     },
     "execution_count": 262,
     "metadata": {},
     "output_type": "execute_result"
    }
   ],
   "source": [
    "np.max(clf.predict_proba(x_test_norm), axis=1)"
   ]
  },
  {
   "cell_type": "code",
   "execution_count": 269,
   "metadata": {},
   "outputs": [
    {
     "data": {
      "text/plain": [
       "19"
      ]
     },
     "execution_count": 269,
     "metadata": {},
     "output_type": "execute_result"
    }
   ],
   "source": [
    "y_pred[49]"
   ]
  },
  {
   "cell_type": "code",
   "execution_count": 265,
   "metadata": {},
   "outputs": [
    {
     "data": {
      "text/plain": [
       "array([ 1,  3,  4, 26, 27, 28, 34, 39, 52, 53], dtype=int64)"
      ]
     },
     "execution_count": 265,
     "metadata": {},
     "output_type": "execute_result"
    }
   ],
   "source": [
    "idx = np.where(y_pred != y_test)[0]"
   ]
  },
  {
   "cell_type": "code",
   "execution_count": 266,
   "metadata": {},
   "outputs": [
    {
     "data": {
      "text/plain": [
       "array([0.99877968, 0.99999946, 0.88905436, 0.97607106, 0.99469681,\n",
       "       0.9996548 , 0.99754321, 0.99320078, 0.99996101, 0.48479612])"
      ]
     },
     "execution_count": 266,
     "metadata": {},
     "output_type": "execute_result"
    }
   ],
   "source": [
    "np.max(clf.predict_proba(x_test_norm), axis=1)[idx]"
   ]
  },
  {
   "cell_type": "code",
   "execution_count": 267,
   "metadata": {},
   "outputs": [
    {
     "data": {
      "text/plain": [
       "array([0.99727574, 0.99007699, 0.99971846, 1.        , 1.        ,\n",
       "       1.        , 1.        , 0.99999997, 1.        , 1.        ,\n",
       "       0.99999958, 0.99999729, 0.99996871, 0.99999727, 0.99997352,\n",
       "       0.66146331, 0.99984271, 1.        , 1.        , 0.99990357,\n",
       "       1.        , 1.        , 0.99999998, 0.99999997, 1.        ,\n",
       "       1.        , 1.        , 0.99998768, 0.99996725, 1.        ,\n",
       "       0.99956137, 0.99658734, 0.93935155, 1.        , 1.        ,\n",
       "       1.        , 1.        , 0.9869657 , 0.90184743, 1.        ,\n",
       "       1.        , 0.50703996, 0.99999305, 0.99999904, 0.9986627 ,\n",
       "       0.99997601, 0.99998533])"
      ]
     },
     "execution_count": 267,
     "metadata": {},
     "output_type": "execute_result"
    }
   ],
   "source": [
    "np.max(clf.predict_proba(x_test_norm), axis=1)[np.where(y_pred == y_test)[0]]"
   ]
  },
  {
   "cell_type": "code",
   "execution_count": 258,
   "metadata": {},
   "outputs": [
    {
     "data": {
      "text/plain": [
       "2"
      ]
     },
     "execution_count": 258,
     "metadata": {},
     "output_type": "execute_result"
    }
   ],
   "source": [
    "y_test[8]"
   ]
  },
  {
   "cell_type": "code",
   "execution_count": 255,
   "metadata": {},
   "outputs": [
    {
     "name": "stdout",
     "output_type": "stream",
     "text": [
      "              precision    recall  f1-score   support\n",
      "\n",
      "        afif       1.00      0.50      0.67         4\n",
      "        aldi       0.33      0.50      0.40         2\n",
      "    bu nanik       1.00      1.00      1.00         8\n",
      "       dandy       1.00      1.00      1.00         2\n",
      "      dinial       1.00      1.00      1.00         1\n",
      "       fadli       1.00      1.00      1.00         3\n",
      "    fandykun       0.67      1.00      0.80         2\n",
      "       felix       1.00      1.00      1.00         2\n",
      "   ferdinand       1.00      1.00      1.00         2\n",
      "          kc       0.00      0.00      0.00         3\n",
      "        mala       1.00      1.00      1.00         3\n",
      "       randi       0.67      1.00      0.80         2\n",
      "      rangga       0.00      0.00      0.00         1\n",
      "     safhira       1.00      1.00      1.00         3\n",
      "      sherly       1.00      0.50      0.67         2\n",
      "      syauqi       0.40      1.00      0.57         2\n",
      "        timo       0.75      1.00      0.86         3\n",
      "     yolanda       0.60      1.00      0.75         3\n",
      "     yoshima       1.00      1.00      1.00         1\n",
      "       yulia       1.00      0.75      0.86         4\n",
      "      zakiya       1.00      0.75      0.86         4\n",
      "\n",
      "    accuracy                           0.82        57\n",
      "   macro avg       0.78      0.81      0.77        57\n",
      "weighted avg       0.83      0.82      0.80        57\n",
      "\n"
     ]
    },
    {
     "name": "stderr",
     "output_type": "stream",
     "text": [
      "c:\\programdata\\anaconda3\\lib\\site-packages\\sklearn\\metrics\\classification.py:1437: UndefinedMetricWarning: Precision and F-score are ill-defined and being set to 0.0 in labels with no predicted samples.\n",
      "  'precision', 'predicted', average, warn_for)\n"
     ]
    }
   ],
   "source": [
    "y_pred = clf.predict(x_test_norm)\n",
    "print(classification_report(y_pred=lb.inverse_transform(y_pred), y_true=lb.inverse_transform(y_test)))"
   ]
  },
  {
   "cell_type": "code",
   "execution_count": 253,
   "metadata": {},
   "outputs": [
    {
     "data": {
      "text/plain": [
       "0.8070175438596491"
      ]
     },
     "execution_count": 253,
     "metadata": {},
     "output_type": "execute_result"
    }
   ],
   "source": [
    "clf = LinearDiscriminantAnalysis(solver='lsqr')\n",
    "clf.fit(x_train, y_train)\n",
    "clf.score(x_test, y_test)"
   ]
  },
  {
   "cell_type": "code",
   "execution_count": 248,
   "metadata": {},
   "outputs": [
    {
     "name": "stderr",
     "output_type": "stream",
     "text": [
      "c:\\programdata\\anaconda3\\lib\\site-packages\\sklearn\\discriminant_analysis.py:693: UserWarning: Variables are collinear\n",
      "  warnings.warn(\"Variables are collinear\")\n"
     ]
    },
    {
     "data": {
      "text/plain": [
       "0.05263157894736842"
      ]
     },
     "execution_count": 248,
     "metadata": {},
     "output_type": "execute_result"
    }
   ],
   "source": [
    "clf = QuadraticDiscriminantAnalysis()\n",
    "clf.fit(x_train_norm, y_train)\n",
    "clf.score(x_test_norm, y_test)"
   ]
  },
  {
   "cell_type": "code",
   "execution_count": 249,
   "metadata": {},
   "outputs": [
    {
     "name": "stderr",
     "output_type": "stream",
     "text": [
      "c:\\programdata\\anaconda3\\lib\\site-packages\\sklearn\\discriminant_analysis.py:693: UserWarning: Variables are collinear\n",
      "  warnings.warn(\"Variables are collinear\")\n"
     ]
    },
    {
     "data": {
      "text/plain": [
       "0.05263157894736842"
      ]
     },
     "execution_count": 249,
     "metadata": {},
     "output_type": "execute_result"
    }
   ],
   "source": [
    "clf = QuadraticDiscriminantAnalysis()\n",
    "clf.fit(x_train, y_train)\n",
    "clf.score(x_test, y_test)"
   ]
  },
  {
   "cell_type": "code",
   "execution_count": 229,
   "metadata": {},
   "outputs": [
    {
     "data": {
      "text/plain": [
       "0.6842105263157895"
      ]
     },
     "execution_count": 229,
     "metadata": {},
     "output_type": "execute_result"
    }
   ],
   "source": [
    "clf = SVC(kernel='linear')\n",
    "clf.fit(x_train, y_train)\n",
    "clf.score(x_test, y_test)"
   ]
  },
  {
   "cell_type": "code",
   "execution_count": 238,
   "metadata": {},
   "outputs": [
    {
     "data": {
      "text/plain": [
       "0.5964912280701754"
      ]
     },
     "execution_count": 238,
     "metadata": {},
     "output_type": "execute_result"
    }
   ],
   "source": [
    "clf = SVC(kernel='linear', random_state=42)\n",
    "clf.fit(x_train_norm, y_train)\n",
    "clf.score(x_test_norm, y_test)"
   ]
  },
  {
   "cell_type": "code",
   "execution_count": 235,
   "metadata": {},
   "outputs": [],
   "source": [
    "normalizer = Normalizer(norm='l2')\n",
    "x_train_norm = normalizer.transform(x_train)\n",
    "x_test_norm = normalizer.transform(x_test)"
   ]
  },
  {
   "cell_type": "code",
   "execution_count": 217,
   "metadata": {},
   "outputs": [
    {
     "data": {
      "text/plain": [
       "0.8245614035087719"
      ]
     },
     "execution_count": 217,
     "metadata": {},
     "output_type": "execute_result"
    }
   ],
   "source": [
    "clf = LinearSVC(random_state=42)\n",
    "clf.fit(x_train, y_train)\n",
    "clf.score(x_test, y_test)"
   ]
  },
  {
   "cell_type": "code",
   "execution_count": 236,
   "metadata": {},
   "outputs": [
    {
     "data": {
      "text/plain": [
       "0.8070175438596491"
      ]
     },
     "execution_count": 236,
     "metadata": {},
     "output_type": "execute_result"
    }
   ],
   "source": [
    "clf = LinearSVC(random_state=42)\n",
    "clf.fit(x_train_norm, y_train)\n",
    "clf.score(x_test_norm, y_test)"
   ]
  },
  {
   "cell_type": "code",
   "execution_count": 218,
   "metadata": {},
   "outputs": [
    {
     "data": {
      "text/plain": [
       "0.7894736842105263"
      ]
     },
     "execution_count": 218,
     "metadata": {},
     "output_type": "execute_result"
    }
   ],
   "source": [
    "from sklearn.calibration import CalibratedClassifierCV\n",
    "cclf = CalibratedClassifierCV(base_estimator=LinearSVC(), cv=5)\n",
    "cclf.fit(x_train, y_train)\n",
    "cclf.score(x_test, y_test)"
   ]
  },
  {
   "cell_type": "code",
   "execution_count": 228,
   "metadata": {},
   "outputs": [
    {
     "data": {
      "text/plain": [
       "array([0.49368995, 0.46110696, 0.44185788, 0.57829943, 0.42008104,\n",
       "       0.55711782, 0.67720174, 0.66193548, 0.78812638, 0.79546206,\n",
       "       0.56481974, 0.60001309, 0.7429521 , 0.71090808, 0.68449004,\n",
       "       0.52683019, 0.56897346, 0.66197029, 0.25563668, 0.44948665,\n",
       "       0.79919765, 0.75273842, 0.64132322, 0.5245697 , 0.79007162,\n",
       "       0.71114629, 0.30988955, 0.41558806, 0.43490613, 0.50065843,\n",
       "       0.62369345, 0.72338979, 0.63243107, 0.44674335, 0.29660491,\n",
       "       0.57580139, 0.72219339, 0.704018  , 0.38233005, 0.28398571,\n",
       "       0.33084378, 0.7404195 , 0.7657971 , 0.76055116, 0.77548407,\n",
       "       0.64974852, 0.42923368, 0.52344182, 0.7327114 , 0.41649541,\n",
       "       0.60705032, 0.56163644, 0.38407767, 0.49895698, 0.35542469,\n",
       "       0.33358642, 0.64954184])"
      ]
     },
     "execution_count": 228,
     "metadata": {},
     "output_type": "execute_result"
    }
   ],
   "source": [
    "np.max(cclf.predict_proba(x_test), axis=1)"
   ]
  },
  {
   "cell_type": "code",
   "execution_count": 226,
   "metadata": {},
   "outputs": [
    {
     "data": {
      "text/plain": [
       "0"
      ]
     },
     "execution_count": 226,
     "metadata": {},
     "output_type": "execute_result"
    }
   ],
   "source": [
    "np.argmax(cclf.predict_proba(x_test)[0])"
   ]
  },
  {
   "cell_type": "code",
   "execution_count": 219,
   "metadata": {},
   "outputs": [
    {
     "data": {
      "text/plain": [
       "0.9798387096774194"
      ]
     },
     "execution_count": 219,
     "metadata": {},
     "output_type": "execute_result"
    }
   ],
   "source": [
    "clf.score(x_train, y_train)"
   ]
  },
  {
   "cell_type": "code",
   "execution_count": 220,
   "metadata": {},
   "outputs": [],
   "source": [
    "y_pred = clf.predict(x_test)"
   ]
  },
  {
   "cell_type": "code",
   "execution_count": 221,
   "metadata": {},
   "outputs": [
    {
     "name": "stdout",
     "output_type": "stream",
     "text": [
      "              precision    recall  f1-score   support\n",
      "\n",
      "        afif       1.00      0.50      0.67         4\n",
      "        aldi       0.67      1.00      0.80         2\n",
      "    bu nanik       1.00      1.00      1.00         8\n",
      "       dandy       1.00      1.00      1.00         2\n",
      "      dinial       0.50      1.00      0.67         1\n",
      "       fadli       0.50      0.67      0.57         3\n",
      "    fandykun       0.67      1.00      0.80         2\n",
      "       felix       1.00      1.00      1.00         2\n",
      "   ferdinand       1.00      1.00      1.00         2\n",
      "          kc       0.50      0.33      0.40         3\n",
      "        mala       1.00      1.00      1.00         3\n",
      "       randi       1.00      1.00      1.00         2\n",
      "      rangga       0.00      0.00      0.00         1\n",
      "     safhira       1.00      1.00      1.00         3\n",
      "      sherly       0.33      0.50      0.40         2\n",
      "      syauqi       0.67      1.00      0.80         2\n",
      "        timo       1.00      1.00      1.00         3\n",
      "     yolanda       1.00      1.00      1.00         3\n",
      "     yoshima       1.00      1.00      1.00         1\n",
      "       yulia       0.75      0.75      0.75         4\n",
      "      zakiya       1.00      0.50      0.67         4\n",
      "\n",
      "    accuracy                           0.82        57\n",
      "   macro avg       0.79      0.82      0.79        57\n",
      "weighted avg       0.85      0.82      0.82        57\n",
      "\n"
     ]
    },
    {
     "name": "stderr",
     "output_type": "stream",
     "text": [
      "c:\\programdata\\anaconda3\\lib\\site-packages\\sklearn\\metrics\\classification.py:1437: UndefinedMetricWarning: Precision and F-score are ill-defined and being set to 0.0 in labels with no predicted samples.\n",
      "  'precision', 'predicted', average, warn_for)\n"
     ]
    }
   ],
   "source": [
    "print(classification_report(y_pred=lb.inverse_transform(y_pred), y_true=lb.inverse_transform(y_test)))"
   ]
  },
  {
   "cell_type": "code",
   "execution_count": 151,
   "metadata": {},
   "outputs": [
    {
     "data": {
      "text/plain": [
       "0.7192982456140351"
      ]
     },
     "execution_count": 151,
     "metadata": {},
     "output_type": "execute_result"
    }
   ],
   "source": [
    "from sklearn.neighbors import KNeighborsClassifier\n",
    "clf = KNeighborsClassifier(n_neighbors=5)\n",
    "clf.fit(x_train, y_train)\n",
    "clf.score(x_test, y_test)"
   ]
  },
  {
   "cell_type": "markdown",
   "metadata": {},
   "source": [
    "# Jarak"
   ]
  },
  {
   "cell_type": "code",
   "execution_count": 125,
   "metadata": {},
   "outputs": [],
   "source": [
    "def distance(new_encoding, known_encodings):\n",
    "    return np.linalg.norm(known_encodings - new_encoding, axis=1)\n",
    "\n",
    "def compare_faces(known_encodings, new_encoding, tolerance=0.6):\n",
    "    \"\"\"\n",
    "    Compare a list of face encodings against a candidate encoding to see if they match.\n",
    "    :param known_face_encodings: A list of known face encodings\n",
    "    :param face_encoding_to_check: A single face encoding to compare against the list\n",
    "    :param tolerance: How much distance between faces to consider it a match. Lower is more strict. 0.6 is typical best performance.\n",
    "    :return: A list of True/False values indicating which known_face_encodings match the face encoding to check\n",
    "    \"\"\"\n",
    "    return list(distance(known_encodings, new_encoding) <= tolerance)\n",
    "\n",
    "def recognize(known_encodings, new_encoding, tolerance=0.5):\n",
    "    dist = distance(new_encoding, known_encodings)\n",
    "    argmin = np.argmin(dist)\n",
    "    if dist[argmin] <= tolerance:\n",
    "        return argmin\n",
    "    return None"
   ]
  },
  {
   "cell_type": "code",
   "execution_count": 124,
   "metadata": {},
   "outputs": [
    {
     "data": {
      "text/plain": [
       "array(['afif', 'afif', 'afif', 'afif', 'afif', 'afif', 'afif', 'afif',\n",
       "       'fandykun', 'fandykun', 'mala', 'mala', 'rangga', 'syauqi'],\n",
       "      dtype=object)"
      ]
     },
     "execution_count": 124,
     "metadata": {},
     "output_type": "execute_result"
    }
   ],
   "source": [
    "lb.inverse_transform(y_train[compare_faces(x_train, x_test[0])])"
   ]
  },
  {
   "cell_type": "code",
   "execution_count": 126,
   "metadata": {},
   "outputs": [],
   "source": [
    "identities = [recognize(x_train, encoding) for encoding in x_test]"
   ]
  },
  {
   "cell_type": "code",
   "execution_count": 130,
   "metadata": {},
   "outputs": [],
   "source": [
    "identities = [y_train[idx] if idx is not None else None for idx in identities]"
   ]
  },
  {
   "cell_type": "code",
   "execution_count": 136,
   "metadata": {},
   "outputs": [
    {
     "ename": "TypeError",
     "evalue": "'>' not supported between instances of 'int' and 'NoneType'",
     "output_type": "error",
     "traceback": [
      "\u001b[1;31m---------------------------------------------------------------------------\u001b[0m",
      "\u001b[1;31mTypeError\u001b[0m                                 Traceback (most recent call last)",
      "\u001b[1;32m<ipython-input-136-32ca3ef323d2>\u001b[0m in \u001b[0;36m<module>\u001b[1;34m()\u001b[0m\n\u001b[1;32m----> 1\u001b[1;33m \u001b[0mclassification_report\u001b[0m\u001b[1;33m(\u001b[0m\u001b[0my_pred\u001b[0m\u001b[1;33m=\u001b[0m\u001b[0mlb\u001b[0m\u001b[1;33m.\u001b[0m\u001b[0minverse_transform\u001b[0m\u001b[1;33m(\u001b[0m\u001b[0midentities\u001b[0m\u001b[1;33m)\u001b[0m\u001b[1;33m,\u001b[0m \u001b[0my_true\u001b[0m\u001b[1;33m=\u001b[0m\u001b[0mlb\u001b[0m\u001b[1;33m.\u001b[0m\u001b[0minverse_transform\u001b[0m\u001b[1;33m(\u001b[0m\u001b[0my_test\u001b[0m\u001b[1;33m)\u001b[0m\u001b[1;33m)\u001b[0m\u001b[1;33m\u001b[0m\u001b[0m\n\u001b[0m",
      "\u001b[1;32mc:\\programdata\\anaconda3\\lib\\site-packages\\sklearn\\preprocessing\\label.py\u001b[0m in \u001b[0;36minverse_transform\u001b[1;34m(self, y)\u001b[0m\n\u001b[0;32m    276\u001b[0m             \u001b[1;32mreturn\u001b[0m \u001b[0mnp\u001b[0m\u001b[1;33m.\u001b[0m\u001b[0marray\u001b[0m\u001b[1;33m(\u001b[0m\u001b[1;33m[\u001b[0m\u001b[1;33m]\u001b[0m\u001b[1;33m)\u001b[0m\u001b[1;33m\u001b[0m\u001b[0m\n\u001b[0;32m    277\u001b[0m \u001b[1;33m\u001b[0m\u001b[0m\n\u001b[1;32m--> 278\u001b[1;33m         \u001b[0mdiff\u001b[0m \u001b[1;33m=\u001b[0m \u001b[0mnp\u001b[0m\u001b[1;33m.\u001b[0m\u001b[0msetdiff1d\u001b[0m\u001b[1;33m(\u001b[0m\u001b[0my\u001b[0m\u001b[1;33m,\u001b[0m \u001b[0mnp\u001b[0m\u001b[1;33m.\u001b[0m\u001b[0marange\u001b[0m\u001b[1;33m(\u001b[0m\u001b[0mlen\u001b[0m\u001b[1;33m(\u001b[0m\u001b[0mself\u001b[0m\u001b[1;33m.\u001b[0m\u001b[0mclasses_\u001b[0m\u001b[1;33m)\u001b[0m\u001b[1;33m)\u001b[0m\u001b[1;33m)\u001b[0m\u001b[1;33m\u001b[0m\u001b[0m\n\u001b[0m\u001b[0;32m    279\u001b[0m         \u001b[1;32mif\u001b[0m \u001b[0mlen\u001b[0m\u001b[1;33m(\u001b[0m\u001b[0mdiff\u001b[0m\u001b[1;33m)\u001b[0m\u001b[1;33m:\u001b[0m\u001b[1;33m\u001b[0m\u001b[0m\n\u001b[0;32m    280\u001b[0m             raise ValueError(\n",
      "\u001b[1;32mc:\\programdata\\anaconda3\\lib\\site-packages\\numpy\\lib\\arraysetops.py\u001b[0m in \u001b[0;36msetdiff1d\u001b[1;34m(ar1, ar2, assume_unique)\u001b[0m\n\u001b[0;32m    783\u001b[0m         \u001b[0mar1\u001b[0m \u001b[1;33m=\u001b[0m \u001b[0mnp\u001b[0m\u001b[1;33m.\u001b[0m\u001b[0masarray\u001b[0m\u001b[1;33m(\u001b[0m\u001b[0mar1\u001b[0m\u001b[1;33m)\u001b[0m\u001b[1;33m.\u001b[0m\u001b[0mravel\u001b[0m\u001b[1;33m(\u001b[0m\u001b[1;33m)\u001b[0m\u001b[1;33m\u001b[0m\u001b[0m\n\u001b[0;32m    784\u001b[0m     \u001b[1;32melse\u001b[0m\u001b[1;33m:\u001b[0m\u001b[1;33m\u001b[0m\u001b[0m\n\u001b[1;32m--> 785\u001b[1;33m         \u001b[0mar1\u001b[0m \u001b[1;33m=\u001b[0m \u001b[0munique\u001b[0m\u001b[1;33m(\u001b[0m\u001b[0mar1\u001b[0m\u001b[1;33m)\u001b[0m\u001b[1;33m\u001b[0m\u001b[0m\n\u001b[0m\u001b[0;32m    786\u001b[0m         \u001b[0mar2\u001b[0m \u001b[1;33m=\u001b[0m \u001b[0munique\u001b[0m\u001b[1;33m(\u001b[0m\u001b[0mar2\u001b[0m\u001b[1;33m)\u001b[0m\u001b[1;33m\u001b[0m\u001b[0m\n\u001b[0;32m    787\u001b[0m     \u001b[1;32mreturn\u001b[0m \u001b[0mar1\u001b[0m\u001b[1;33m[\u001b[0m\u001b[0min1d\u001b[0m\u001b[1;33m(\u001b[0m\u001b[0mar1\u001b[0m\u001b[1;33m,\u001b[0m \u001b[0mar2\u001b[0m\u001b[1;33m,\u001b[0m \u001b[0massume_unique\u001b[0m\u001b[1;33m=\u001b[0m\u001b[1;32mTrue\u001b[0m\u001b[1;33m,\u001b[0m \u001b[0minvert\u001b[0m\u001b[1;33m=\u001b[0m\u001b[1;32mTrue\u001b[0m\u001b[1;33m)\u001b[0m\u001b[1;33m]\u001b[0m\u001b[1;33m\u001b[0m\u001b[0m\n",
      "\u001b[1;32mc:\\programdata\\anaconda3\\lib\\site-packages\\numpy\\lib\\arraysetops.py\u001b[0m in \u001b[0;36munique\u001b[1;34m(ar, return_index, return_inverse, return_counts, axis)\u001b[0m\n\u001b[0;32m    262\u001b[0m     \u001b[0mar\u001b[0m \u001b[1;33m=\u001b[0m \u001b[0mnp\u001b[0m\u001b[1;33m.\u001b[0m\u001b[0masanyarray\u001b[0m\u001b[1;33m(\u001b[0m\u001b[0mar\u001b[0m\u001b[1;33m)\u001b[0m\u001b[1;33m\u001b[0m\u001b[0m\n\u001b[0;32m    263\u001b[0m     \u001b[1;32mif\u001b[0m \u001b[0maxis\u001b[0m \u001b[1;32mis\u001b[0m \u001b[1;32mNone\u001b[0m\u001b[1;33m:\u001b[0m\u001b[1;33m\u001b[0m\u001b[0m\n\u001b[1;32m--> 264\u001b[1;33m         \u001b[0mret\u001b[0m \u001b[1;33m=\u001b[0m \u001b[0m_unique1d\u001b[0m\u001b[1;33m(\u001b[0m\u001b[0mar\u001b[0m\u001b[1;33m,\u001b[0m \u001b[0mreturn_index\u001b[0m\u001b[1;33m,\u001b[0m \u001b[0mreturn_inverse\u001b[0m\u001b[1;33m,\u001b[0m \u001b[0mreturn_counts\u001b[0m\u001b[1;33m)\u001b[0m\u001b[1;33m\u001b[0m\u001b[0m\n\u001b[0m\u001b[0;32m    265\u001b[0m         \u001b[1;32mreturn\u001b[0m \u001b[0m_unpack_tuple\u001b[0m\u001b[1;33m(\u001b[0m\u001b[0mret\u001b[0m\u001b[1;33m)\u001b[0m\u001b[1;33m\u001b[0m\u001b[0m\n\u001b[0;32m    266\u001b[0m \u001b[1;33m\u001b[0m\u001b[0m\n",
      "\u001b[1;32mc:\\programdata\\anaconda3\\lib\\site-packages\\numpy\\lib\\arraysetops.py\u001b[0m in \u001b[0;36m_unique1d\u001b[1;34m(ar, return_index, return_inverse, return_counts)\u001b[0m\n\u001b[0;32m    310\u001b[0m         \u001b[0maux\u001b[0m \u001b[1;33m=\u001b[0m \u001b[0mar\u001b[0m\u001b[1;33m[\u001b[0m\u001b[0mperm\u001b[0m\u001b[1;33m]\u001b[0m\u001b[1;33m\u001b[0m\u001b[0m\n\u001b[0;32m    311\u001b[0m     \u001b[1;32melse\u001b[0m\u001b[1;33m:\u001b[0m\u001b[1;33m\u001b[0m\u001b[0m\n\u001b[1;32m--> 312\u001b[1;33m         \u001b[0mar\u001b[0m\u001b[1;33m.\u001b[0m\u001b[0msort\u001b[0m\u001b[1;33m(\u001b[0m\u001b[1;33m)\u001b[0m\u001b[1;33m\u001b[0m\u001b[0m\n\u001b[0m\u001b[0;32m    313\u001b[0m         \u001b[0maux\u001b[0m \u001b[1;33m=\u001b[0m \u001b[0mar\u001b[0m\u001b[1;33m\u001b[0m\u001b[0m\n\u001b[0;32m    314\u001b[0m     \u001b[0mmask\u001b[0m \u001b[1;33m=\u001b[0m \u001b[0mnp\u001b[0m\u001b[1;33m.\u001b[0m\u001b[0mempty\u001b[0m\u001b[1;33m(\u001b[0m\u001b[0maux\u001b[0m\u001b[1;33m.\u001b[0m\u001b[0mshape\u001b[0m\u001b[1;33m,\u001b[0m \u001b[0mdtype\u001b[0m\u001b[1;33m=\u001b[0m\u001b[0mnp\u001b[0m\u001b[1;33m.\u001b[0m\u001b[0mbool_\u001b[0m\u001b[1;33m)\u001b[0m\u001b[1;33m\u001b[0m\u001b[0m\n",
      "\u001b[1;31mTypeError\u001b[0m: '>' not supported between instances of 'int' and 'NoneType'"
     ]
    }
   ],
   "source": [
    "classification_report(y_pred=lb.inverse_transform(identities), y_true=lb.inverse_transform(y_test))"
   ]
  },
  {
   "cell_type": "code",
   "execution_count": 135,
   "metadata": {},
   "outputs": [
    {
     "name": "stdout",
     "output_type": "stream",
     "text": [
      "fandykun afif\n",
      "None afif\n",
      "None afif\n",
      "fandykun afif\n",
      "None aldi\n",
      "aldi aldi\n",
      "bu nanik bu nanik\n",
      "bu nanik bu nanik\n",
      "bu nanik bu nanik\n",
      "bu nanik bu nanik\n",
      "bu nanik bu nanik\n",
      "bu nanik bu nanik\n",
      "bu nanik bu nanik\n",
      "bu nanik bu nanik\n",
      "dandy dandy\n",
      "felix dandy\n",
      "dinial dinial\n",
      "fadli fadli\n",
      "sherly fadli\n",
      "fadli fadli\n",
      "aldi fandykun\n",
      "fandykun fandykun\n",
      "felix felix\n",
      "felix felix\n",
      "ferdinand ferdinand\n",
      "ferdinand ferdinand\n",
      "kc kc\n",
      "dandy kc\n",
      "syauqi kc\n",
      "mala mala\n",
      "mala mala\n",
      "mala mala\n",
      "randi randi\n",
      "syauqi randi\n",
      "fandykun rangga\n",
      "safhira safhira\n",
      "safhira safhira\n",
      "safhira safhira\n",
      "sherly sherly\n",
      "sherly sherly\n",
      "yolanda syauqi\n",
      "syauqi syauqi\n",
      "timo timo\n",
      "timo timo\n",
      "timo timo\n",
      "yolanda yolanda\n",
      "fadli yolanda\n",
      "dinial yolanda\n",
      "yoshima yoshima\n",
      "yulia yulia\n",
      "yulia yulia\n",
      "fadli yulia\n",
      "sherly yulia\n",
      "sherly zakiya\n",
      "yolanda zakiya\n",
      "ferdinand zakiya\n",
      "zakiya zakiya\n"
     ]
    }
   ],
   "source": [
    "for y_pred, y_true in zip(identities, y_test):\n",
    "    name_pred = lb.inverse_transform([y_pred])[0] if y_pred else None\n",
    "    name_true = lb.inverse_transform([y_true])[0]\n",
    "    print(name_pred, name_true)"
   ]
  },
  {
   "cell_type": "code",
   "execution_count": null,
   "metadata": {},
   "outputs": [],
   "source": []
  }
 ],
 "metadata": {
  "kernelspec": {
   "display_name": "Python 3",
   "language": "python",
   "name": "python3"
  },
  "language_info": {
   "codemirror_mode": {
    "name": "ipython",
    "version": 3
   },
   "file_extension": ".py",
   "mimetype": "text/x-python",
   "name": "python",
   "nbconvert_exporter": "python",
   "pygments_lexer": "ipython3",
   "version": "3.6.6"
  }
 },
 "nbformat": 4,
 "nbformat_minor": 4
}
